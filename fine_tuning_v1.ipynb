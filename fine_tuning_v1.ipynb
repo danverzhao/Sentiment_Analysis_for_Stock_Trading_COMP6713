{
 "cells": [
  {
   "cell_type": "code",
   "execution_count": 4,
   "metadata": {},
   "outputs": [
    {
     "name": "stderr",
     "output_type": "stream",
     "text": [
      "c:\\Python310\\lib\\site-packages\\tqdm\\auto.py:21: TqdmWarning: IProgress not found. Please update jupyter and ipywidgets. See https://ipywidgets.readthedocs.io/en/stable/user_install.html\n",
      "  from .autonotebook import tqdm as notebook_tqdm\n"
     ]
    }
   ],
   "source": [
    "import numpy as np\n",
    "import pandas as pd\n",
    "from transformers import BertTokenizer, Trainer, BertForSequenceClassification, TrainingArguments\n",
    "from datasets import Dataset\n",
    "from sklearn.model_selection import train_test_split\n",
    "from sklearn.metrics import accuracy_score"
   ]
  },
  {
   "cell_type": "code",
   "execution_count": 5,
   "metadata": {},
   "outputs": [],
   "source": [
    "import torch\n",
    "import transformers"
   ]
  },
  {
   "cell_type": "markdown",
   "metadata": {},
   "source": [
    "## LOAD DATASET"
   ]
  },
  {
   "cell_type": "code",
   "execution_count": 6,
   "metadata": {},
   "outputs": [
    {
     "data": {
      "text/html": [
       "<div>\n",
       "<style scoped>\n",
       "    .dataframe tbody tr th:only-of-type {\n",
       "        vertical-align: middle;\n",
       "    }\n",
       "\n",
       "    .dataframe tbody tr th {\n",
       "        vertical-align: top;\n",
       "    }\n",
       "\n",
       "    .dataframe thead th {\n",
       "        text-align: right;\n",
       "    }\n",
       "</style>\n",
       "<table border=\"1\" class=\"dataframe\">\n",
       "  <thead>\n",
       "    <tr style=\"text-align: right;\">\n",
       "      <th></th>\n",
       "      <th>text</th>\n",
       "      <th>label</th>\n",
       "    </tr>\n",
       "  </thead>\n",
       "  <tbody>\n",
       "    <tr>\n",
       "      <th>0</th>\n",
       "      <td>$BYND - JPMorgan reels in expectations on Beyo...</td>\n",
       "      <td>0</td>\n",
       "    </tr>\n",
       "    <tr>\n",
       "      <th>1</th>\n",
       "      <td>$CCL $RCL - Nomura points to bookings weakness...</td>\n",
       "      <td>0</td>\n",
       "    </tr>\n",
       "    <tr>\n",
       "      <th>2</th>\n",
       "      <td>$CX - Cemex cut at Credit Suisse, J.P. Morgan ...</td>\n",
       "      <td>0</td>\n",
       "    </tr>\n",
       "    <tr>\n",
       "      <th>3</th>\n",
       "      <td>$ESS: BTIG Research cuts to Neutral https://t....</td>\n",
       "      <td>0</td>\n",
       "    </tr>\n",
       "    <tr>\n",
       "      <th>4</th>\n",
       "      <td>$FNKO - Funko slides after Piper Jaffray PT cu...</td>\n",
       "      <td>0</td>\n",
       "    </tr>\n",
       "  </tbody>\n",
       "</table>\n",
       "</div>"
      ],
      "text/plain": [
       "                                                text  label\n",
       "0  $BYND - JPMorgan reels in expectations on Beyo...      0\n",
       "1  $CCL $RCL - Nomura points to bookings weakness...      0\n",
       "2  $CX - Cemex cut at Credit Suisse, J.P. Morgan ...      0\n",
       "3  $ESS: BTIG Research cuts to Neutral https://t....      0\n",
       "4  $FNKO - Funko slides after Piper Jaffray PT cu...      0"
      ]
     },
     "execution_count": 6,
     "metadata": {},
     "output_type": "execute_result"
    }
   ],
   "source": [
    "df = pd.read_csv('datasets/my-dataset-train.csv')\n",
    "df.head()"
   ]
  },
  {
   "cell_type": "code",
   "execution_count": 7,
   "metadata": {},
   "outputs": [],
   "source": [
    "df = df.dropna(subset=['text', 'label'])"
   ]
  },
  {
   "cell_type": "code",
   "execution_count": 8,
   "metadata": {},
   "outputs": [
    {
     "name": "stdout",
     "output_type": "stream",
     "text": [
      "(7729, 2) (955, 2) (859, 2)\n"
     ]
    }
   ],
   "source": [
    "df_train, df_test = train_test_split(df, stratify=df['label'], test_size=0.1, random_state=30)\n",
    "df_train, df_val = train_test_split(df_train, stratify=df_train['label'], test_size=0.1, random_state=30)\n",
    "print(df_train.shape, df_test.shape, df_val.shape)"
   ]
  },
  {
   "cell_type": "markdown",
   "metadata": {},
   "source": [
    "## LOAD PRE-TRAINED MODEL"
   ]
  },
  {
   "cell_type": "code",
   "execution_count": 9,
   "metadata": {},
   "outputs": [],
   "source": [
    "model = BertForSequenceClassification.from_pretrained('ProsusAI/finbert')\n",
    "tokenizer = BertTokenizer.from_pretrained('ProsusAI/finbert')"
   ]
  },
  {
   "cell_type": "code",
   "execution_count": 10,
   "metadata": {},
   "outputs": [
    {
     "name": "stderr",
     "output_type": "stream",
     "text": [
      "Map: 100%|██████████| 7729/7729 [00:04<00:00, 1605.06 examples/s]\n",
      "Map: 100%|██████████| 859/859 [00:00<00:00, 1731.52 examples/s]\n"
     ]
    }
   ],
   "source": [
    "dataset_train = Dataset.from_pandas(df_train)\n",
    "dataset_val = Dataset.from_pandas(df_val)\n",
    "dataset_test = Dataset.from_pandas(df_test)\n",
    "\n",
    "def tokenize_function(dataset):\n",
    "    return tokenizer(dataset[\"text\"], padding=\"max_length\", truncation=True)\n",
    "\n",
    "dataset_train = dataset_train.map(tokenize_function, batched=True)\n",
    "dataset_val = dataset_val.map(tokenize_function, batched=True)\n",
    "\n",
    "small_train_dataset = dataset_train.shuffle(seed=42).select(range(1000))\n",
    "small_eval_dataset = dataset_train.shuffle(seed=42).select(range(1000))\n",
    "\n",
    "# dataset_train.set_format(type='torch', columns=['input_ids', 'token_type_ids', 'attention_mask', 'label'])\n",
    "# dataset_val.set_format(type='torch', columns=['input_ids', 'token_type_ids', 'attention_mask', 'label'])\n",
    "# dataset_test.set_format(type='torch', columns=['input_ids', 'token_type_ids', 'attention_mask', 'label'])"
   ]
  },
  {
   "cell_type": "markdown",
   "metadata": {},
   "source": [
    "## FINE TUNE MODEL (SKIP IF YOU ALREADY HAVE FINETUNED VERSION)"
   ]
  },
  {
   "cell_type": "code",
   "execution_count": null,
   "metadata": {},
   "outputs": [],
   "source": [
    "def compute_metrics(eval_pred):\n",
    "    logits, labels = eval_pred\n",
    "    predictions = np.argmax(logits, axis=-1)\n",
    "    return metric.compute(predictions=predictions, references=labels)\n",
    "\n",
    "training_args = TrainingArguments(output_dir=\"test_trainer\")\n",
    "\n",
    "trainer = Trainer(\n",
    "    model=model,\n",
    "    args=training_args,\n",
    "    train_dataset=small_train_dataset,\n",
    "    eval_dataset=small_eval_dataset,\n",
    "    compute_metrics=compute_metrics,\n",
    ")\n",
    "\n",
    "trainer.train()"
   ]
  },
  {
   "cell_type": "code",
   "execution_count": null,
   "metadata": {},
   "outputs": [],
   "source": [
    "model.eval()\n",
    "trainer.predict(dataset_test).metrics"
   ]
  },
  {
   "cell_type": "code",
   "execution_count": 9,
   "metadata": {},
   "outputs": [
    {
     "ename": "NameError",
     "evalue": "name 'trainer' is not defined",
     "output_type": "error",
     "traceback": [
      "\u001b[1;31m---------------------------------------------------------------------------\u001b[0m",
      "\u001b[1;31mNameError\u001b[0m                                 Traceback (most recent call last)",
      "Cell \u001b[1;32mIn[9], line 1\u001b[0m\n\u001b[1;32m----> 1\u001b[0m \u001b[43mtrainer\u001b[49m\u001b[38;5;241m.\u001b[39msave_model(\u001b[38;5;124m'\u001b[39m\u001b[38;5;124mfinbert-fintuned/\u001b[39m\u001b[38;5;124m'\u001b[39m)\n",
      "\u001b[1;31mNameError\u001b[0m: name 'trainer' is not defined"
     ]
    }
   ],
   "source": [
    "trainer.save_model('finbert-fintuned/')"
   ]
  },
  {
   "cell_type": "markdown",
   "metadata": {},
   "source": [
    "## LOAD MODEL FOR EVALUATION"
   ]
  },
  {
   "cell_type": "code",
   "execution_count": 11,
   "metadata": {},
   "outputs": [
    {
     "data": {
      "text/plain": [
       "BertForSequenceClassification(\n",
       "  (bert): BertModel(\n",
       "    (embeddings): BertEmbeddings(\n",
       "      (word_embeddings): Embedding(30522, 768, padding_idx=0)\n",
       "      (position_embeddings): Embedding(512, 768)\n",
       "      (token_type_embeddings): Embedding(2, 768)\n",
       "      (LayerNorm): LayerNorm((768,), eps=1e-12, elementwise_affine=True)\n",
       "      (dropout): Dropout(p=0.1, inplace=False)\n",
       "    )\n",
       "    (encoder): BertEncoder(\n",
       "      (layer): ModuleList(\n",
       "        (0-11): 12 x BertLayer(\n",
       "          (attention): BertAttention(\n",
       "            (self): BertSelfAttention(\n",
       "              (query): Linear(in_features=768, out_features=768, bias=True)\n",
       "              (key): Linear(in_features=768, out_features=768, bias=True)\n",
       "              (value): Linear(in_features=768, out_features=768, bias=True)\n",
       "              (dropout): Dropout(p=0.1, inplace=False)\n",
       "            )\n",
       "            (output): BertSelfOutput(\n",
       "              (dense): Linear(in_features=768, out_features=768, bias=True)\n",
       "              (LayerNorm): LayerNorm((768,), eps=1e-12, elementwise_affine=True)\n",
       "              (dropout): Dropout(p=0.1, inplace=False)\n",
       "            )\n",
       "          )\n",
       "          (intermediate): BertIntermediate(\n",
       "            (dense): Linear(in_features=768, out_features=3072, bias=True)\n",
       "            (intermediate_act_fn): GELUActivation()\n",
       "          )\n",
       "          (output): BertOutput(\n",
       "            (dense): Linear(in_features=3072, out_features=768, bias=True)\n",
       "            (LayerNorm): LayerNorm((768,), eps=1e-12, elementwise_affine=True)\n",
       "            (dropout): Dropout(p=0.1, inplace=False)\n",
       "          )\n",
       "        )\n",
       "      )\n",
       "    )\n",
       "    (pooler): BertPooler(\n",
       "      (dense): Linear(in_features=768, out_features=768, bias=True)\n",
       "      (activation): Tanh()\n",
       "    )\n",
       "  )\n",
       "  (dropout): Dropout(p=0.1, inplace=False)\n",
       "  (classifier): Linear(in_features=768, out_features=3, bias=True)\n",
       ")"
      ]
     },
     "execution_count": 11,
     "metadata": {},
     "output_type": "execute_result"
    }
   ],
   "source": [
    "loadmodel = BertForSequenceClassification.from_pretrained('finbert-fintuned/')\n",
    "loadmodel.eval()"
   ]
  },
  {
   "cell_type": "code",
   "execution_count": 26,
   "metadata": {},
   "outputs": [
    {
     "name": "stdout",
     "output_type": "stream",
     "text": [
      "dict_keys(['text', 'label', '__index_level_0__'])\n"
     ]
    }
   ],
   "source": [
    "from sklearn.metrics import f1_score\n",
    "from torch.utils.data import DataLoader, Subset\n",
    "\n",
    "y_t = []\n",
    "y_p = []\n",
    "\n",
    "device = torch.device('cuda' if torch.cuda.is_available() else 'cpu')\n",
    "\n",
    "test_loader = DataLoader(dataset=dataset_test, batch_size=64, shuffle=False)\n",
    "for sample_batch in test_loader:\n",
    "    # Print the keys of the sample batch to check its structure\n",
    "    print(sample_batch.keys())\n",
    "    # Break the loop after printing the first batch\n",
    "    break\n",
    "\n"
   ]
  },
  {
   "cell_type": "code",
   "execution_count": 28,
   "metadata": {},
   "outputs": [
    {
     "name": "stdout",
     "output_type": "stream",
     "text": [
      "Accuracy: 0.8817\n",
      "Precision: 0.8820\n",
      "F1 Score: 0.8808\n"
     ]
    }
   ],
   "source": [
    "from sklearn.metrics import accuracy_score, precision_score, f1_score\n",
    "\n",
    "predicted_labels = []\n",
    "\n",
    "for batch in test_loader:\n",
    "    texts = batch['text']\n",
    "    labels = batch['label']\n",
    "\n",
    "    inputs = tokenizer(texts, padding=True, truncation=True, return_tensors='pt')\n",
    "\n",
    "    with torch.no_grad():\n",
    "            outputs = loadmodel(**inputs)\n",
    "\n",
    "    logits = outputs.logits\n",
    "    _, predicted_batch = torch.max(logits, dim=1)\n",
    "\n",
    "    y_t.extend(labels.tolist())\n",
    "    y_p.extend(predicted_batch.tolist())\n",
    "\n",
    "accuracy = accuracy_score(y_t, y_p)\n",
    "precision = precision_score(y_t, y_p, average='weighted')\n",
    "f1 = f1_score(y_t, y_p, average='weighted')\n",
    "\n",
    "print(f\"Accuracy: {accuracy:.4f}\")\n",
    "print(f\"Precision: {precision:.4f}\")\n",
    "print(f\"F1 Score: {f1:.4f}\")"
   ]
  },
  {
   "cell_type": "code",
   "execution_count": 29,
   "metadata": {},
   "outputs": [
    {
     "name": "stdout",
     "output_type": "stream",
     "text": [
      "[1, 2, 0, 0, 1, 2, 2, 2, 2, 2, 2, 0, 0, 0, 1, 2, 2, 2, 2, 2, 2, 2, 1, 2, 2, 1, 1, 0, 2, 2, 2, 1, 2, 2, 2, 0, 2, 2, 2, 1, 2, 1, 0, 1, 2, 0, 2, 2, 0, 2, 2, 1, 2, 1, 1, 2, 2, 2, 2, 2, 2, 2, 2, 1, 2, 0, 2, 2, 2, 2, 2, 2, 2, 2, 2, 2, 0, 2, 1, 2, 2, 2, 2, 1, 2, 2, 1, 2, 1, 2, 0, 0, 0, 2, 2, 2, 1, 2, 2, 2, 0, 1, 1, 2, 0, 0, 1, 1, 2, 2, 1, 2, 1, 2, 1, 0, 2, 2, 2, 0, 0, 2, 2, 2, 2, 2, 2, 2, 2, 2, 2, 1, 2, 1, 0, 1, 2, 2, 2, 1, 0, 1, 1, 2, 2, 2, 1, 2, 2, 2, 2, 2, 2, 2, 2, 2, 2, 2, 1, 1, 1, 2, 2, 2, 0, 0, 2, 2, 2, 2, 1, 2, 1, 2, 1, 2, 2, 2, 1, 2, 2, 2, 1, 1, 2, 2, 1, 2, 2, 0, 1, 2, 2, 2, 0, 2, 2, 0, 2, 2, 1, 1, 0, 2, 2, 2, 2, 2, 2, 2, 0, 2, 2, 2, 2, 1, 0, 2, 2, 2, 1, 0, 1, 0, 1, 2, 2, 2, 2, 1, 2, 2, 0, 2, 0, 2, 0, 0, 0, 1, 2, 2, 2, 2, 0, 2, 2, 2, 2, 1, 1, 2, 2, 1, 2, 1, 0, 2, 2, 2, 2, 2, 1, 2, 0, 2, 0, 2, 1, 0, 2, 0, 0, 1, 2, 1, 1, 2, 0, 1, 1, 1, 2, 2, 2, 2, 2, 2, 1, 1, 2, 2, 1, 2, 1, 1, 2, 2, 2, 2, 1, 2, 2, 2, 0, 0, 2, 0, 2, 2, 2, 2, 1, 2, 2, 2, 2, 2, 2, 1, 2, 2, 2, 2, 0, 2, 2, 1, 2, 1, 0, 2, 1, 2, 1, 2, 1, 2, 0, 2, 2, 0, 0, 2, 2, 2, 2, 0, 1, 1, 2, 2, 1, 2, 1, 2, 2, 2, 2, 1, 1, 1, 1, 2, 1, 2, 1, 0, 1, 1, 1, 2, 2, 2, 1, 1, 2, 2, 2, 2, 2, 2, 0, 2, 2, 2, 2, 1, 2, 2, 2, 2, 1, 2, 2, 2, 2, 1, 2, 2, 2, 2, 1, 2, 2, 1, 1, 0, 2, 0, 1, 1, 0, 1, 2, 2, 2, 2, 0, 2, 2, 0, 1, 1, 0, 2, 0, 2, 1, 2, 1, 2, 2, 2, 0, 2, 2, 2, 1, 2, 2, 2, 0, 2, 1, 0, 2, 1, 2, 2, 2, 2, 0, 2, 2, 2, 1, 2, 2, 0, 2, 0, 1, 1, 2, 2, 2, 2, 2, 1, 2, 2, 2, 2, 2, 0, 2, 2, 1, 2, 2, 2, 2, 2, 2, 2, 2, 2, 0, 1, 0, 1, 0, 2, 2, 2, 2, 2, 2, 2, 2, 2, 0, 1, 2, 2, 2, 1, 2, 2, 0, 2, 2, 2, 2, 0, 2, 0, 2, 1, 2, 2, 2, 0, 2, 0, 2, 2, 2, 2, 0, 2, 1, 2, 2, 1, 2, 0, 2, 0, 2, 2, 0, 0, 2, 0, 0, 2, 1, 2, 1, 1, 2, 0, 2, 2, 1, 2, 2, 1, 0, 2, 2, 2, 2, 2, 2, 2, 2, 0, 2, 1, 0, 2, 1, 2, 2, 0, 2, 0, 2, 2, 2, 0, 0, 2, 0, 2, 2, 2, 2, 0, 2, 0, 2, 2, 2, 2, 2, 1, 2, 1, 1, 2, 2, 2, 2, 2, 2, 0, 1, 2, 1, 1, 2, 2, 2, 0, 2, 2, 1, 2, 2, 2, 2, 2, 2, 2, 1, 2, 2, 0, 1, 2, 0, 0, 2, 2, 2, 2, 2, 2, 2, 2, 2, 1, 2, 2, 2, 1, 1, 2, 1, 2, 1, 0, 2, 2, 2, 2, 2, 2, 1, 0, 1, 0, 2, 2, 0, 2, 2, 2, 2, 2, 1, 2, 2, 2, 2, 2, 0, 2, 2, 2, 2, 2, 1, 2, 1, 1, 2, 0, 1, 0, 2, 2, 1, 2, 2, 2, 2, 2, 2, 2, 0, 2, 1, 2, 2, 1, 2, 2, 2, 2, 2, 2, 2, 2, 2, 1, 2, 2, 2, 0, 2, 2, 2, 2, 0, 2, 2, 2, 2, 1, 2, 1, 1, 2, 0, 0, 2, 2, 0, 2, 2, 2, 0, 2, 2, 1, 2, 2, 0, 2, 2, 2, 0, 2, 2, 1, 2, 2, 2, 1, 2, 2, 2, 2, 0, 2, 0, 0, 2, 0, 2, 2, 2, 2, 2, 0, 2, 1, 2, 2, 2, 2, 2, 1, 1, 1, 1, 2, 2, 0, 2, 2, 2, 2, 2, 0, 2, 1, 2, 2, 2, 2, 0, 2, 2, 2, 2, 2, 2, 1, 0, 2, 1, 2, 2, 2, 2, 2, 0, 2, 2, 2, 1, 2, 2, 2, 2, 2, 2, 2, 2, 1, 2, 2, 1, 1, 2, 2, 0, 1, 2, 2, 1, 0, 1, 2, 2, 2, 2, 0, 2, 2, 1, 2, 2, 2, 2, 2, 1, 2, 2, 2, 2, 0, 1, 2, 2, 0, 2, 0, 2, 0, 2, 2, 2, 2, 2, 2, 2, 2, 1, 2, 1, 1, 2, 2, 2, 0, 2, 1, 1, 2, 2, 2, 1, 2, 0, 0, 1, 1, 2, 2, 0, 2, 1, 2, 2, 0, 2, 2, 2, 2, 0, 1, 1, 2, 2, 1, 2, 1, 2, 2, 2, 2, 2, 2, 1, 2, 1, 1, 2, 2, 2, 2, 2, 2, 1, 2, 0, 2, 2, 2, 2, 2, 2, 2, 2, 2, 2, 2, 0]\n",
      "[2, 2, 0, 0, 1, 2, 2, 2, 2, 2, 2, 0, 2, 0, 1, 2, 2, 2, 2, 2, 2, 2, 1, 2, 2, 1, 1, 0, 2, 2, 2, 1, 2, 2, 2, 0, 2, 2, 2, 1, 2, 2, 2, 1, 2, 0, 2, 2, 2, 2, 2, 1, 2, 1, 1, 2, 2, 2, 2, 2, 2, 0, 2, 1, 2, 2, 2, 2, 2, 2, 1, 2, 2, 2, 2, 2, 0, 2, 2, 2, 2, 2, 2, 2, 2, 2, 1, 2, 1, 2, 0, 2, 2, 2, 2, 2, 1, 2, 2, 2, 0, 2, 1, 2, 0, 0, 1, 1, 2, 1, 1, 2, 2, 1, 1, 0, 2, 0, 2, 0, 0, 2, 2, 2, 2, 2, 2, 2, 2, 2, 2, 1, 2, 2, 0, 1, 2, 2, 2, 1, 0, 1, 0, 2, 2, 2, 1, 2, 2, 2, 2, 2, 2, 2, 2, 2, 1, 2, 1, 2, 1, 2, 2, 2, 0, 0, 2, 2, 2, 2, 1, 2, 1, 2, 1, 2, 2, 2, 1, 0, 2, 2, 2, 1, 0, 2, 1, 2, 2, 2, 1, 2, 2, 2, 2, 2, 2, 0, 2, 2, 1, 2, 0, 2, 2, 2, 2, 2, 2, 2, 0, 2, 2, 2, 2, 1, 0, 2, 2, 2, 1, 0, 1, 0, 1, 2, 2, 2, 2, 0, 2, 2, 1, 2, 0, 2, 0, 0, 2, 1, 2, 2, 1, 2, 0, 2, 2, 2, 2, 2, 1, 2, 2, 1, 2, 2, 2, 2, 2, 2, 2, 2, 1, 2, 0, 2, 0, 2, 2, 2, 2, 0, 0, 1, 0, 1, 0, 2, 0, 2, 1, 1, 2, 2, 2, 2, 2, 2, 1, 1, 2, 2, 1, 0, 1, 1, 2, 2, 2, 0, 1, 2, 2, 2, 0, 0, 2, 0, 2, 2, 2, 2, 2, 2, 2, 2, 2, 2, 2, 1, 2, 2, 2, 2, 0, 2, 2, 1, 2, 2, 0, 2, 1, 2, 1, 2, 1, 2, 0, 0, 2, 0, 2, 2, 2, 2, 2, 0, 1, 1, 2, 2, 1, 2, 2, 2, 1, 2, 2, 0, 1, 1, 1, 2, 1, 2, 1, 0, 1, 1, 1, 2, 2, 2, 1, 1, 2, 2, 2, 2, 2, 0, 0, 2, 2, 2, 2, 1, 2, 2, 2, 2, 1, 2, 2, 2, 2, 1, 2, 2, 2, 2, 1, 2, 2, 2, 1, 0, 2, 0, 1, 1, 0, 1, 2, 2, 2, 2, 0, 2, 2, 0, 1, 1, 0, 2, 0, 2, 2, 2, 1, 2, 1, 2, 2, 2, 2, 2, 1, 2, 2, 2, 2, 0, 1, 0, 2, 1, 2, 2, 2, 2, 0, 2, 2, 2, 1, 2, 2, 0, 2, 0, 0, 1, 2, 2, 2, 2, 2, 1, 2, 2, 2, 2, 2, 0, 2, 2, 1, 2, 2, 2, 2, 2, 1, 2, 0, 2, 0, 1, 2, 1, 0, 2, 2, 2, 2, 2, 2, 2, 2, 2, 0, 1, 2, 2, 2, 2, 2, 2, 0, 2, 2, 2, 2, 0, 2, 0, 2, 1, 2, 2, 2, 0, 2, 0, 2, 2, 2, 2, 0, 2, 1, 2, 2, 1, 2, 0, 2, 0, 0, 2, 0, 0, 2, 0, 0, 2, 1, 2, 1, 0, 2, 0, 2, 2, 1, 2, 2, 1, 0, 2, 2, 2, 2, 2, 2, 2, 2, 2, 2, 1, 0, 2, 1, 2, 2, 0, 2, 1, 2, 2, 2, 2, 0, 2, 2, 2, 2, 2, 2, 0, 2, 0, 2, 2, 2, 0, 2, 2, 2, 1, 1, 2, 2, 0, 0, 0, 2, 0, 1, 2, 1, 1, 2, 2, 2, 0, 2, 1, 1, 2, 2, 2, 2, 2, 2, 2, 0, 2, 2, 0, 1, 2, 0, 0, 2, 2, 2, 2, 2, 2, 2, 2, 2, 1, 2, 2, 2, 1, 1, 2, 1, 2, 2, 0, 2, 2, 2, 2, 2, 2, 2, 0, 1, 2, 2, 2, 2, 2, 2, 2, 2, 2, 1, 2, 2, 2, 2, 2, 0, 2, 2, 2, 2, 2, 1, 2, 1, 0, 2, 0, 1, 0, 2, 2, 2, 0, 2, 2, 2, 2, 2, 0, 0, 2, 1, 2, 2, 1, 2, 2, 2, 2, 2, 2, 2, 0, 2, 1, 2, 2, 0, 0, 2, 0, 2, 2, 0, 2, 2, 2, 2, 1, 2, 1, 1, 2, 1, 0, 2, 2, 0, 2, 2, 2, 0, 2, 2, 2, 2, 2, 0, 2, 2, 2, 2, 2, 2, 2, 2, 1, 2, 2, 2, 2, 2, 2, 2, 2, 2, 0, 2, 0, 2, 2, 2, 0, 2, 0, 2, 1, 2, 2, 2, 2, 2, 1, 1, 1, 2, 2, 2, 0, 2, 2, 2, 2, 2, 0, 2, 1, 2, 2, 2, 2, 2, 2, 2, 2, 2, 0, 2, 1, 0, 2, 1, 2, 2, 2, 2, 2, 0, 2, 2, 1, 1, 2, 2, 2, 2, 2, 2, 2, 2, 1, 2, 2, 1, 1, 2, 2, 2, 1, 2, 2, 1, 2, 1, 2, 2, 2, 2, 1, 2, 2, 1, 2, 2, 2, 2, 2, 1, 2, 2, 2, 2, 0, 1, 1, 2, 0, 2, 2, 2, 0, 2, 2, 2, 2, 2, 2, 2, 2, 1, 2, 1, 1, 0, 2, 2, 0, 2, 1, 1, 2, 2, 2, 2, 2, 0, 2, 1, 2, 2, 2, 0, 2, 0, 2, 2, 0, 0, 2, 2, 2, 0, 2, 1, 2, 2, 1, 2, 2, 2, 2, 2, 2, 2, 2, 2, 2, 1, 1, 1, 2, 2, 2, 2, 2, 1, 0, 0, 2, 2, 2, 2, 2, 2, 2, 2, 2, 2, 2, 0]\n"
     ]
    }
   ],
   "source": [
    "print(y_t)\n",
    "print(y_p)"
   ]
  },
  {
   "cell_type": "code",
   "execution_count": 30,
   "metadata": {},
   "outputs": [
    {
     "data": {
      "image/png": "[encoded data removed]",
      "text/plain": [
       "<Figure size 800x600 with 1 Axes>"
      ]
     },
     "metadata": {},
     "output_type": "display_data"
    }
   ],
   "source": [
    "from sklearn.metrics import confusion_matrix\n",
    "import matplotlib.pyplot as plt\n",
    "import seaborn as sns\n",
    "\n",
    "cm = confusion_matrix(y_t, y_p)\n",
    "\n",
    "plt.figure(figsize=(8, 6))\n",
    "sns.heatmap(cm, annot=True, fmt='d', cmap='Blues', cbar=False)\n",
    "plt.xlabel('Predicted')\n",
    "plt.ylabel('True')\n",
    "plt.title('Confusion Matrix')\n",
    "plt.show()"
   ]
  },
  {
   "cell_type": "code",
   "execution_count": 31,
   "metadata": {},
   "outputs": [],
   "source": [
    "aapl_tweet_df = pd.read_csv('datasets/preprocessed-evaluation-tweets/aapl-15000.csv')\n",
    "tsla_tweet_df = pd.read_csv('datasets/preprocessed-evaluation-tweets/tsla.csv')\n",
    "\n",
    "aapl_price_df = pd.read_csv('stock_prices/AAPL_prices_2020-06-01_to_2020-07-25.csv')\n",
    "#aapl_price_df = pd.read_csv('stock_prices/AAPL_prices_2022-01-01_to_2024-04-11.csv')\n",
    "tsla_price_df = pd.read_csv('stock_prices/TSLA_prices_2022-01-01_to_2024-04-11.csv')"
   ]
  },
  {
   "cell_type": "code",
   "execution_count": 32,
   "metadata": {},
   "outputs": [
    {
     "data": {
      "text/html": [
       "<div>\n",
       "<style scoped>\n",
       "    .dataframe tbody tr th:only-of-type {\n",
       "        vertical-align: middle;\n",
       "    }\n",
       "\n",
       "    .dataframe tbody tr th {\n",
       "        vertical-align: top;\n",
       "    }\n",
       "\n",
       "    .dataframe thead th {\n",
       "        text-align: right;\n",
       "    }\n",
       "</style>\n",
       "<table border=\"1\" class=\"dataframe\">\n",
       "  <thead>\n",
       "    <tr style=\"text-align: right;\">\n",
       "      <th></th>\n",
       "      <th>message</th>\n",
       "      <th>datetime</th>\n",
       "      <th>user</th>\n",
       "      <th>message_id</th>\n",
       "    </tr>\n",
       "  </thead>\n",
       "  <tbody>\n",
       "    <tr>\n",
       "      <th>0</th>\n",
       "      <td>Peak profit for the last 6 expired option aler...</td>\n",
       "      <td>2020-07-19T09:49:35Z</td>\n",
       "      <td>1442893</td>\n",
       "      <td>229008387</td>\n",
       "    </tr>\n",
       "    <tr>\n",
       "      <th>1</th>\n",
       "      <td>$AAPL [Jul-17 382.50 Calls] Option volume Up +...</td>\n",
       "      <td>2020-07-19T09:47:26Z</td>\n",
       "      <td>1442893</td>\n",
       "      <td>229008357</td>\n",
       "    </tr>\n",
       "    <tr>\n",
       "      <th>2</th>\n",
       "      <td>$TSLA the market will be in true bubble territ...</td>\n",
       "      <td>2020-07-19T09:01:25Z</td>\n",
       "      <td>1115913</td>\n",
       "      <td>229007569</td>\n",
       "    </tr>\n",
       "    <tr>\n",
       "      <th>3</th>\n",
       "      <td>$AAPL was analyzed by 26 analysts. The buy con...</td>\n",
       "      <td>2020-07-19T08:13:00Z</td>\n",
       "      <td>47688</td>\n",
       "      <td>229006733</td>\n",
       "    </tr>\n",
       "    <tr>\n",
       "      <th>4</th>\n",
       "      <td>$AAPL NEW ARTICLE : Dogs Of The Dow For August...</td>\n",
       "      <td>2020-07-19T07:54:05Z</td>\n",
       "      <td>1555408</td>\n",
       "      <td>229006403</td>\n",
       "    </tr>\n",
       "  </tbody>\n",
       "</table>\n",
       "</div>"
      ],
      "text/plain": [
       "                                             message              datetime  \\\n",
       "0  Peak profit for the last 6 expired option aler...  2020-07-19T09:49:35Z   \n",
       "1  $AAPL [Jul-17 382.50 Calls] Option volume Up +...  2020-07-19T09:47:26Z   \n",
       "2  $TSLA the market will be in true bubble territ...  2020-07-19T09:01:25Z   \n",
       "3  $AAPL was analyzed by 26 analysts. The buy con...  2020-07-19T08:13:00Z   \n",
       "4  $AAPL NEW ARTICLE : Dogs Of The Dow For August...  2020-07-19T07:54:05Z   \n",
       "\n",
       "      user  message_id  \n",
       "0  1442893   229008387  \n",
       "1  1442893   229008357  \n",
       "2  1115913   229007569  \n",
       "3    47688   229006733  \n",
       "4  1555408   229006403  "
      ]
     },
     "execution_count": 32,
     "metadata": {},
     "output_type": "execute_result"
    }
   ],
   "source": [
    "aapl_tweet_df.head()"
   ]
  },
  {
   "cell_type": "code",
   "execution_count": 33,
   "metadata": {},
   "outputs": [
    {
     "name": "stdout",
     "output_type": "stream",
     "text": [
      "2020-07-19\n",
      "<class 'str'>\n"
     ]
    }
   ],
   "source": [
    "tweet_date_string = aapl_tweet_df['datetime'][0]\n",
    "tweet_date_string = tweet_date_string[:10]\n",
    "print(tweet_date_string)\n",
    "print(type(tweet_date_string))"
   ]
  },
  {
   "cell_type": "code",
   "execution_count": 34,
   "metadata": {},
   "outputs": [
    {
     "name": "stdout",
     "output_type": "stream",
     "text": [
      "2022-01-03\n",
      "<class 'str'>\n"
     ]
    }
   ],
   "source": [
    "price_date_string = tsla_price_df['Date'][0]\n",
    "price_date_string = price_date_string[:10]\n",
    "print(price_date_string)\n",
    "print(type(price_date_string))"
   ]
  },
  {
   "cell_type": "code",
   "execution_count": 37,
   "metadata": {},
   "outputs": [
    {
     "name": "stdout",
     "output_type": "stream",
     "text": [
      "Text: Apple is going up!\n",
      "[-2.470505952835083, 3.166743040084839, -0.2714490592479706]\n",
      "Predicted Sentiment: Positive\n",
      "\n",
      "Text: Tesla doesn't look too good today.\n",
      "[-0.6780800819396973, -0.8475140333175659, 1.984910011291504]\n",
      "Predicted Sentiment: Neutral\n",
      "\n",
      "tensor([[-3.1486,  2.3192,  1.7135]], grad_fn=<AddBackward0>)\n"
     ]
    }
   ],
   "source": [
    "text1 = \"Apple is going up!\"\n",
    "inputs1 = tokenizer(text1, return_tensors=\"pt\", padding=True, truncation=True)\n",
    "inputs1 = {k: v.to(device) for k, v in inputs1.items()}\n",
    "outputs1 = loadmodel(**inputs1)\n",
    "logits1 = outputs1.logits\n",
    "predicted_class1 = torch.argmax(logits1, dim=1).item()\n",
    "\n",
    "sentiment_labels = {0: 'Negative', 1: 'Positive', 2: 'Neutral'}\n",
    "predicted_sentiment = sentiment_labels[predicted_class1]\n",
    "\n",
    "print(f\"Text: {text1}\")\n",
    "print(logits1[0].tolist())\n",
    "print(f\"Predicted Sentiment: {predicted_sentiment}\\n\")\n",
    "\n",
    "text2 = \"Tesla doesn't look too good today.\"\n",
    "inputs2 = tokenizer(text2, return_tensors=\"pt\", padding=True, truncation=True)\n",
    "inputs2 = {k: v.to(device) for k, v in inputs2.items()}\n",
    "outputs2 = loadmodel(**inputs2)\n",
    "logits2 = outputs2.logits\n",
    "predicted_class2 = torch.argmax(logits2, dim=1).item()\n",
    "\n",
    "sentiment_labels = {0: 'Negative', 1: 'Positive', 2: 'Neutral'}\n",
    "predicted_sentiment = sentiment_labels[predicted_class2]\n",
    "\n",
    "print(f\"Text: {text2}\")\n",
    "print(logits2[0].tolist())\n",
    "print(f\"Predicted Sentiment: {predicted_sentiment}\\n\")\n",
    "\n",
    "print(logits1 + logits2)"
   ]
  },
  {
   "cell_type": "code",
   "execution_count": 65,
   "metadata": {},
   "outputs": [
    {
     "name": "stdout",
     "output_type": "stream",
     "text": [
      "2024-01-01\n",
      "<class 'str'>\n"
     ]
    }
   ],
   "source": [
    "from datetime import datetime\n",
    "\n",
    "tweet_date_string = tsla_tweet_df['created_at'][0]\n",
    "\n",
    "# Parse the string date into a datetime object\n",
    "date_obj = datetime.strptime(tweet_date_string, \"%a %b %d %H:%M:%S %z %Y\")\n",
    "\n",
    "# Format the datetime object into the desired format\n",
    "formatted_date = date_obj.strftime(\"%Y-%m-%d\")\n",
    "\n",
    "print(formatted_date)\n",
    "print(type(formatted_date))"
   ]
  },
  {
   "cell_type": "code",
   "execution_count": 75,
   "metadata": {},
   "outputs": [
    {
     "name": "stdout",
     "output_type": "stream",
     "text": [
      "[[0.0, 0.0, 0.0]]\n",
      "bear/bull\n",
      "[[0.0, 0.0, 0.0]]\n",
      "bear/bull\n",
      "[[0.0, 0.0, 0.0]]\n",
      "bear/bull\n",
      "[[0.0, 0.0, 0.0]]\n",
      "bear/bull\n",
      "[[0.0, 0.0, 0.0]]\n",
      "bear/bull\n",
      "[[0.0, 0.0, 0.0]]\n",
      "bear/bull\n",
      "[[0.0, 0.0, 0.0]]\n",
      "bear/bull\n",
      "[[0.0, 0.0, 0.0]]\n",
      "bear/bull\n",
      "[[0.0, 0.0, 0.0]]\n",
      "bear/bull\n",
      "[[0.0, 0.0, 0.0]]\n",
      "bear/bull\n",
      "[[0.0, 0.0, 0.0]]\n",
      "bear/bull\n",
      "[[0.0, 0.0, 0.0]]\n",
      "bear/bull\n",
      "[[0.0, 0.0, 0.0]]\n",
      "bear/bull\n",
      "[[0.0, 0.0, 0.0]]\n",
      "bear/bull\n",
      "[[0.0, 0.0, 0.0]]\n",
      "bear/bull\n",
      "[[0.0, 0.0, 0.0]]\n",
      "bear/bull\n",
      "[[0.0, 0.0, 0.0]]\n",
      "bear/bull\n",
      "[[0.0, 0.0, 0.0]]\n",
      "bear/bull\n"
     ]
    },
    {
     "ename": "RuntimeError",
     "evalue": "output with shape [1, 3] doesn't match the broadcast shape [59, 3]",
     "output_type": "error",
     "traceback": [
      "\u001b[1;31m---------------------------------------------------------------------------\u001b[0m",
      "\u001b[1;31mRuntimeError\u001b[0m                              Traceback (most recent call last)",
      "Cell \u001b[1;32mIn[75], line 39\u001b[0m\n\u001b[0;32m     37\u001b[0m             outputs \u001b[38;5;241m=\u001b[39m loadmodel(\u001b[38;5;241m*\u001b[39m\u001b[38;5;241m*\u001b[39minputs)\n\u001b[0;32m     38\u001b[0m         logits \u001b[38;5;241m=\u001b[39m outputs\u001b[38;5;241m.\u001b[39mlogits\n\u001b[1;32m---> 39\u001b[0m         tweet_sentiments \u001b[38;5;241m+\u001b[39m\u001b[38;5;241m=\u001b[39m logits\n\u001b[0;32m     41\u001b[0m \u001b[38;5;28mprint\u001b[39m(tweet_sentiments\u001b[38;5;241m.\u001b[39mtolist())\n\u001b[0;32m     42\u001b[0m \u001b[38;5;66;03m#predicted_class = torch.argmax(tweet_sentiments, dim=1).item()\u001b[39;00m\n",
      "\u001b[1;31mRuntimeError\u001b[0m: output with shape [1, 3] doesn't match the broadcast shape [59, 3]"
     ]
    }
   ],
   "source": [
    "y_true = []\n",
    "y_pred = []\n",
    "\n",
    "for y in range(6, 8):\n",
    "    month = str(y).zfill(2)\n",
    "    for i in range(1,31):\n",
    "        if y == 7 and i ==23:\n",
    "            break\n",
    "        \n",
    "        date = str(i).zfill(2)\n",
    "        date_string = f'2020-{month}-{date}'\n",
    "        day_exist = False\n",
    "\n",
    "        # check if prices fall or rise\n",
    "        for index, Date in enumerate(aapl_price_df['Date']):\n",
    "            if date_string == Date[:10]:\n",
    "                if aapl_price_df['Close'][index+1] > aapl_price_df['Close'][index]:\n",
    "                    y_true.append(1)\n",
    "                else:\n",
    "                    y_true.append(-1)\n",
    "                day_exist = True\n",
    "        if day_exist == False:\n",
    "            continue\n",
    "        else:\n",
    "            day_exist = False\n",
    "\n",
    "        # calculate sentiment on the day\n",
    "        tweet_sentiments = torch.zeros(59, 3)\n",
    "        for index, Date in enumerate(aapl_tweet_df['datetime']):\n",
    "            formatted_date = Date[:10]\n",
    "\n",
    "            if date_string == formatted_date:\n",
    "                text = aapl_tweet_df['message'][index]\n",
    "\n",
    "                inputs = tokenizer(texts, padding=True, truncation=True, return_tensors='pt')\n",
    "                with torch.no_grad():\n",
    "                    outputs = loadmodel(**inputs)\n",
    "                logits = outputs.logits\n",
    "                tweet_sentiments += logits\n",
    "\n",
    "        print(tweet_sentiments.tolist())\n",
    "        #predicted_class = torch.argmax(tweet_sentiments, dim=1).item()\n",
    "        k = 2  # We want the second largest element\n",
    "        values, indices = torch.topk(tweet_sentiments[0], k)\n",
    "\n",
    "        # The second largest element index will be at indices[1]\n",
    "        second_largest_index = indices[1]\n",
    "\n",
    "        predicted_class = second_largest_index.item()\n",
    "\n",
    "        sentiment_labels = {0: -1, 1: 1, 2: 0}\n",
    "        predicted_sentiment = sentiment_labels[predicted_class]\n",
    "\n",
    "        if predicted_sentiment != 0:\n",
    "            print('bear/bull')\n",
    "            y_pred.append(predicted_sentiment)\n",
    "        else:\n",
    "            print('neutral')\n",
    "            y_true.pop()\n",
    "\n",
    "print('Tesla')\n",
    "print(f'y_true: {y_true}')\n",
    "print(f'y_pred: {y_pred}')\n",
    "\n",
    "tsla_f1 = f1_score(y_true, y_pred, average='macro')\n",
    "tsla_accuracy = accuracy_score(y_true, y_pred)\n",
    "\n",
    "print(f'f1: {tsla_f1}')\n",
    "print(f'accuracy: {tsla_accuracy}')\n"
   ]
  }
 ],
 "metadata": {
  "kernelspec": {
   "display_name": "Python 3",
   "language": "python",
   "name": "python3"
  },
  "language_info": {
   "codemirror_mode": {
    "name": "ipython",
    "version": 3
   },
   "file_extension": ".py",
   "mimetype": "text/x-python",
   "name": "python",
   "nbconvert_exporter": "python",
   "pygments_lexer": "ipython3",
   "version": "3.10.8"
  }
 },
 "nbformat": 4,
 "nbformat_minor": 2
}
